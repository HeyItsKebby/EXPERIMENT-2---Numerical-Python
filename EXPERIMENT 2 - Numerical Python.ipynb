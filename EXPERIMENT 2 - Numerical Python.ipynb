{
 "cells": [
  {
   "cell_type": "markdown",
   "id": "910d030f-d291-417a-afd4-f656705309fa",
   "metadata": {},
   "source": [
    "## NORMALIZATION PROBLEM:\n",
    "### In this problem, create a random 5 x 5 ndarray and store it to variable X. Normalize X. Save your normalized ndarray as X_normalized.npy"
   ]
  },
  {
   "cell_type": "code",
   "execution_count": 44,
   "id": "fd8b7a13-61fc-4b06-a440-65a887a41d01",
   "metadata": {},
   "outputs": [
    {
     "name": "stdout",
     "output_type": "stream",
     "text": [
      "Normalized 5x5 Array:\n",
      "[[ 0.84456482  1.83270324  0.44612947 -0.69554759 -1.47196921]\n",
      " [ 0.21566265 -0.30233987  1.01514053 -0.27400988 -1.14947884]\n",
      " [ 0.91646575  1.17134643 -0.6491711   0.6002917  -0.38275029]\n",
      " [ 0.0502653  -1.19153337  1.52630548 -0.07736284 -1.53853418]\n",
      " [ 1.84197126 -0.28308247 -1.27557236 -1.06664723 -0.1028474 ]]\n"
     ]
    }
   ],
   "source": [
    "import numpy as np\n",
    "\n",
    "#random 5x5 array\n",
    "X = np.random.rand(5, 5)\n",
    "\n",
    "#calculating mean and standard deviation\n",
    "mean = X.mean()\n",
    "std_dev = X.std()\n",
    "\n",
    "#normalization\n",
    "X_normalized = (X - mean) / std_dev\n",
    "\n",
    "#saving normalized array as X_normalized.npy\n",
    "np.save('X_normalized.npy', X_normalized)\n",
    "\n",
    "#loading array file\n",
    "X_normalized = np.load('X_normalized.npy')\n",
    "\n",
    "#print array\n",
    "print(\"Normalized 5x5 Array:\")\n",
    "print(X_normalized)"
   ]
  },
  {
   "cell_type": "markdown",
   "id": "01d3a6b7-4f09-46ff-9f6a-a4616a65a859",
   "metadata": {},
   "source": [
    "## DIVISIBLE BY 3 PROBLEM:\n",
    "### Create the following 10 x 10 ndarray which are the squares of the first 100 positive integers. From this ndarray, determine all the elements that are divisible by 3. Save the result as div_by_3.npy\r\n"
   ]
  },
  {
   "cell_type": "code",
   "execution_count": 48,
   "id": "2951876b-6956-49bb-b391-d0813991632a",
   "metadata": {},
   "outputs": [
    {
     "name": "stdout",
     "output_type": "stream",
     "text": [
      "\n",
      "Elements divisible by 3:\n",
      "[   9   36   81  144  225  324  441  576  729  900 1089 1296 1521 1764\n",
      " 2025 2304 2601 2916 3249 3600 3969 4356 4761 5184 5625 6084 6561 7056\n",
      " 7569 8100 8649 9216 9801]\n"
     ]
    }
   ],
   "source": [
    "import numpy as np\n",
    "\n",
    "#creating array of first 100 integers\n",
    "numbers = np.arange(1, 101)\n",
    "\n",
    "#square the integers then make an array\n",
    "A = numbers ** 2\n",
    "A = A.reshape((10, 10))\n",
    "\n",
    "#finding numbers divisible by 3\n",
    "div_by_3 = A[A % 3 == 0]\n",
    "\n",
    "#saving result as file\n",
    "np.save('div_by_3.npy', div_by_3)\n",
    "\n",
    "#print elements divisible by 3\n",
    "print(\"\\nElements divisible by 3:\")\n",
    "print(div_by_3)"
   ]
  },
  {
   "cell_type": "code",
   "execution_count": null,
   "id": "9bf20e51-b7cf-41da-937e-b26b60c85ea8",
   "metadata": {},
   "outputs": [],
   "source": []
  }
 ],
 "metadata": {
  "kernelspec": {
   "display_name": "Python 3 (ipykernel)",
   "language": "python",
   "name": "python3"
  },
  "language_info": {
   "codemirror_mode": {
    "name": "ipython",
    "version": 3
   },
   "file_extension": ".py",
   "mimetype": "text/x-python",
   "name": "python",
   "nbconvert_exporter": "python",
   "pygments_lexer": "ipython3",
   "version": "3.12.4"
  }
 },
 "nbformat": 4,
 "nbformat_minor": 5
}
